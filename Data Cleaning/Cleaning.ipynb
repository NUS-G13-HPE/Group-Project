{
 "cells": [
  {
   "cell_type": "code",
   "execution_count": null,
   "metadata": {
    "id": "oVky6-Is--8D",
    "pycharm": {
     "name": "#%%\n"
    }
   },
   "outputs": [],
   "source": [
    "from google.colab import drive\n",
    "drive.mount('/content/drive')"
   ]
  },
  {
   "cell_type": "code",
   "execution_count": null,
   "metadata": {
    "id": "ALWs0u3UqLSH",
    "pycharm": {
     "name": "#%%\n"
    }
   },
   "outputs": [],
   "source": [
    "!unzip '/content/drive/MyDrive/bad_images.zip'\n",
    "!unzip '/content/drive/MyDrive/good_images.zip'\n",
    "!unzip '/content/drive/MyDrive/all_images.zip'"
   ]
  },
  {
   "cell_type": "code",
   "execution_count": 1,
   "metadata": {
    "id": "fe3jRloor8FY",
    "pycharm": {
     "name": "#%%\n"
    }
   },
   "outputs": [],
   "source": [
    "import numpy as np\n",
    "import matplotlib.pyplot as plt\n",
    "import os\n",
    "import cv2\n",
    "import random\n",
    "from sklearn.model_selection import train_test_split\n",
    "import tensorflow as tf\n",
    "from tensorflow import keras\n",
    "from keras.models import Sequential\n",
    "from PIL import Image"
   ]
  },
  {
   "cell_type": "code",
   "execution_count": 2,
   "metadata": {
    "id": "9v1GhEwPr8Nj",
    "pycharm": {
     "name": "#%%\n"
    }
   },
   "outputs": [],
   "source": [
    "# TRAIN_DATADIR = \"/content\"\n",
    "TRAIN_DATADIR = r\"C:\\Users\\lenovo\\Desktop\\gaip\\Group-Project\\Data Cleaning\"\n",
    "\n",
    "CATEGORIES = [\"good_images\", \"bad_images\"]\n",
    "w_size = 128\n",
    "h_size = 256\n",
    "training_data = []\n",
    "\n",
    "for category in CATEGORIES:\n",
    "    path = os.path.join(TRAIN_DATADIR, category)\n",
    "    class_num = CATEGORIES.index(category)\n",
    "    for img in os.listdir(path):\n",
    "        try:\n",
    "            img_array = cv2.imread(os.path.join(path, img))\n",
    "            img_array = cv2.resize(img_array, (w_size, h_size))\n",
    "            training_data.append([img_array, class_num])\n",
    "        except Exception as e:\n",
    "            print(e)\n",
    "            pass"
   ]
  },
  {
   "cell_type": "code",
   "execution_count": 3,
   "metadata": {
    "id": "1c_ul0dDr8P6",
    "pycharm": {
     "name": "#%%\n"
    }
   },
   "outputs": [],
   "source": [
    "random.shuffle(training_data)"
   ]
  },
  {
   "cell_type": "code",
   "execution_count": 4,
   "metadata": {
    "colab": {
     "base_uri": "https://localhost:8080/"
    },
    "id": "cpRcJCWVB1KM",
    "outputId": "265e2f0a-203f-4a3c-e59f-eaba02128c78",
    "pycharm": {
     "name": "#%%\n"
    }
   },
   "outputs": [
    {
     "data": {
      "text/plain": [
       "1273"
      ]
     },
     "execution_count": 4,
     "metadata": {},
     "output_type": "execute_result"
    }
   ],
   "source": [
    "len(training_data)"
   ]
  },
  {
   "cell_type": "code",
   "execution_count": 5,
   "metadata": {
    "id": "qFQtodqLr8SI",
    "pycharm": {
     "name": "#%%\n"
    }
   },
   "outputs": [],
   "source": [
    "x1 = []\n",
    "y1 = []\n",
    "\n",
    "for features, label in training_data:\n",
    "    x1.append(features)\n",
    "    y1.append(label)\n",
    "\n",
    "x= np.array(x1)\n",
    "x = x/255\n",
    "y = np.array(y1)"
   ]
  },
  {
   "cell_type": "code",
   "execution_count": 6,
   "metadata": {
    "id": "Pw4E6jl8r8UO",
    "pycharm": {
     "name": "#%%\n"
    }
   },
   "outputs": [],
   "source": [
    "xtrain, xtest, ytrain, ytest = train_test_split(x, y, test_size=0.2)"
   ]
  },
  {
   "cell_type": "code",
   "execution_count": 7,
   "metadata": {
    "colab": {
     "base_uri": "https://localhost:8080/"
    },
    "id": "cVbzkmyZr8av",
    "outputId": "ec93dcd5-8444-40af-9d15-c2a3c8972f85",
    "pycharm": {
     "name": "#%%\n"
    }
   },
   "outputs": [
    {
     "data": {
      "text/plain": [
       "((1018, 256, 128, 3), (255, 256, 128, 3))"
      ]
     },
     "execution_count": 7,
     "metadata": {},
     "output_type": "execute_result"
    }
   ],
   "source": [
    "xtrain.shape, xtest.shape"
   ]
  },
  {
   "cell_type": "markdown",
   "metadata": {
    "id": "8Lq3F1L0sIre",
    "pycharm": {
     "name": "#%% md\n"
    }
   },
   "source": [
    "# Train new model\n",
    "---"
   ]
  },
  {
   "cell_type": "code",
   "execution_count": null,
   "metadata": {
    "id": "9GANSZFfr8fg",
    "pycharm": {
     "name": "#%%\n"
    }
   },
   "outputs": [],
   "source": [
    "# Model\n",
    "Vgg = tf.keras.applications.vgg16.VGG16(weights='imagenet', include_top=False,input_shape=(256, 128,3))\n",
    "Vgg.trainable = False\n",
    "\n",
    "#Create new model on top\n",
    "model=Sequential()\n",
    "model.add(Vgg)\n",
    "model.add(tf.keras.layers.Conv2D(256,(2,2),activation='relu'))\n",
    "model.add(tf.keras.layers.Conv2D(516,(2,2),activation='relu'))\n",
    "model.add(tf.keras.layers.MaxPool2D(pool_size=(2, 2),strides=(1, 1)))\n",
    "model.add(tf.keras.layers.Dropout(0.3))\n",
    "model.add(tf.keras.layers.Flatten())\n",
    "model.add(tf.keras.layers.Dense(1024, activation='relu'))\n",
    "model.add(tf.keras.layers.Dense(2048, activation='relu'))\n",
    "model.add(tf.keras.layers.Dropout(0.2))\n",
    "model.add(tf.keras.layers.Dense(256, activation='relu'))\n",
    "model.add(tf.keras.layers.Dense(512, activation='relu'))\n",
    "model.add(tf.keras.layers.Dropout(0.1))\n",
    "model.add(tf.keras.layers.Dense(1, activation='sigmoid'))"
   ]
  },
  {
   "cell_type": "code",
   "execution_count": null,
   "metadata": {
    "colab": {
     "base_uri": "https://localhost:8080/"
    },
    "id": "8HS6hUifr8hx",
    "outputId": "4e342621-7d65-4a8a-e0ff-41b31fa01508",
    "pycharm": {
     "name": "#%%\n"
    }
   },
   "outputs": [
    {
     "name": "stdout",
     "output_type": "stream",
     "text": [
      "Model: \"sequential\"\n",
      "_________________________________________________________________\n",
      " Layer (type)                Output Shape              Param #   \n",
      "=================================================================\n",
      " vgg16 (Functional)          (None, 8, 4, 512)         14714688  \n",
      "                                                                 \n",
      " conv2d (Conv2D)             (None, 7, 3, 256)         524544    \n",
      "                                                                 \n",
      " conv2d_1 (Conv2D)           (None, 6, 2, 516)         528900    \n",
      "                                                                 \n",
      " max_pooling2d (MaxPooling2D  (None, 5, 1, 516)        0         \n",
      " )                                                               \n",
      "                                                                 \n",
      " dropout (Dropout)           (None, 5, 1, 516)         0         \n",
      "                                                                 \n",
      " flatten (Flatten)           (None, 2580)              0         \n",
      "                                                                 \n",
      " dense (Dense)               (None, 1024)              2642944   \n",
      "                                                                 \n",
      " dense_1 (Dense)             (None, 2048)              2099200   \n",
      "                                                                 \n",
      " dropout_1 (Dropout)         (None, 2048)              0         \n",
      "                                                                 \n",
      " dense_2 (Dense)             (None, 256)               524544    \n",
      "                                                                 \n",
      " dense_3 (Dense)             (None, 512)               131584    \n",
      "                                                                 \n",
      " dropout_2 (Dropout)         (None, 512)               0         \n",
      "                                                                 \n",
      " dense_4 (Dense)             (None, 1)                 513       \n",
      "                                                                 \n",
      "=================================================================\n",
      "Total params: 21,166,917\n",
      "Trainable params: 6,452,229\n",
      "Non-trainable params: 14,714,688\n",
      "_________________________________________________________________\n"
     ]
    }
   ],
   "source": [
    "model.summary()"
   ]
  },
  {
   "cell_type": "code",
   "execution_count": null,
   "metadata": {
    "id": "uLv0-jdhr8jb",
    "pycharm": {
     "name": "#%%\n"
    }
   },
   "outputs": [],
   "source": [
    "opt = tf.keras.optimizers.Adam(learning_rate=0.001)\n",
    "es = tf.keras.callbacks.EarlyStopping(monitor='val_loss',patience=8)\n",
    "model.compile(loss='binary_crossentropy', metrics=['accuracy'],optimizer=opt)"
   ]
  },
  {
   "cell_type": "code",
   "execution_count": null,
   "metadata": {
    "colab": {
     "base_uri": "https://localhost:8080/"
    },
    "id": "dsr0q5Y7saNP",
    "outputId": "edf25470-56e4-47f2-c7ed-1f681601b2ce",
    "pycharm": {
     "name": "#%%\n"
    }
   },
   "outputs": [
    {
     "name": "stdout",
     "output_type": "stream",
     "text": [
      "Epoch 1/50\n",
      "35/35 [==============================] - 21s 203ms/step - loss: 0.6718 - accuracy: 0.5839 - val_loss: 0.5295 - val_accuracy: 0.7143\n",
      "Epoch 2/50\n",
      "35/35 [==============================] - 4s 125ms/step - loss: 0.4565 - accuracy: 0.7800 - val_loss: 0.4383 - val_accuracy: 0.7509\n",
      "Epoch 3/50\n",
      "35/35 [==============================] - 4s 124ms/step - loss: 0.3437 - accuracy: 0.8543 - val_loss: 0.2974 - val_accuracy: 0.8718\n",
      "Epoch 4/50\n",
      "35/35 [==============================] - 4s 125ms/step - loss: 0.2421 - accuracy: 0.8973 - val_loss: 0.4111 - val_accuracy: 0.8022\n",
      "Epoch 5/50\n",
      "35/35 [==============================] - 5s 134ms/step - loss: 0.2142 - accuracy: 0.9166 - val_loss: 0.4379 - val_accuracy: 0.8498\n",
      "Epoch 6/50\n",
      "35/35 [==============================] - 4s 129ms/step - loss: 0.1465 - accuracy: 0.9404 - val_loss: 0.3892 - val_accuracy: 0.8718\n",
      "Epoch 7/50\n",
      "35/35 [==============================] - 4s 127ms/step - loss: 0.0913 - accuracy: 0.9688 - val_loss: 0.3577 - val_accuracy: 0.8571\n",
      "Epoch 8/50\n",
      "35/35 [==============================] - 4s 127ms/step - loss: 0.1476 - accuracy: 0.9468 - val_loss: 0.4465 - val_accuracy: 0.8828\n",
      "Epoch 9/50\n",
      "35/35 [==============================] - 4s 127ms/step - loss: 0.0631 - accuracy: 0.9789 - val_loss: 0.4132 - val_accuracy: 0.8828\n",
      "Epoch 10/50\n",
      "35/35 [==============================] - 4s 128ms/step - loss: 0.0817 - accuracy: 0.9743 - val_loss: 1.0930 - val_accuracy: 0.7949\n",
      "Epoch 11/50\n",
      "35/35 [==============================] - 4s 128ms/step - loss: 0.2674 - accuracy: 0.8964 - val_loss: 0.3067 - val_accuracy: 0.8681\n"
     ]
    }
   ],
   "source": [
    "history = model.fit(x=xtrain, y=ytrain ,epochs = 50 , batch_size=32, validation_data=(xtest, ytest), callbacks=es)\n",
    "# history = model.fit(x=xtrain, y=ytrain ,epochs = 50 , batch_size=32, validation_data=(xtest, ytest))"
   ]
  },
  {
   "cell_type": "code",
   "execution_count": null,
   "metadata": {
    "id": "okoFEhURsaP0",
    "pycharm": {
     "name": "#%%\n"
    }
   },
   "outputs": [],
   "source": [
    "model.save('m2.h5')"
   ]
  },
  {
   "cell_type": "markdown",
   "metadata": {
    "id": "hxzERyHTshr3",
    "pycharm": {
     "name": "#%% md\n"
    }
   },
   "source": [
    "# Load existing model\n",
    "---"
   ]
  },
  {
   "cell_type": "code",
   "execution_count": 8,
   "metadata": {
    "id": "P9nn_xjwsiR6",
    "pycharm": {
     "name": "#%%\n"
    }
   },
   "outputs": [],
   "source": [
    "from tensorflow.keras.models import Model\n",
    "from tensorflow.keras.models import load_model"
   ]
  },
  {
   "cell_type": "code",
   "execution_count": 9,
   "metadata": {
    "id": "9_LIAw20sacd",
    "pycharm": {
     "name": "#%%\n"
    }
   },
   "outputs": [],
   "source": [
    "model = Model\n",
    "model = load_model('m2.h5')"
   ]
  },
  {
   "cell_type": "markdown",
   "metadata": {
    "id": "835n8Da5u0wK",
    "pycharm": {
     "name": "#%% md\n"
    }
   },
   "source": [
    "# Testing and checking model\n",
    "---"
   ]
  },
  {
   "cell_type": "code",
   "execution_count": 10,
   "metadata": {},
   "outputs": [
    {
     "name": "stdout",
     "output_type": "stream",
     "text": [
      "Model: \"sequential\"\n",
      "_________________________________________________________________\n",
      " Layer (type)                Output Shape              Param #   \n",
      "=================================================================\n",
      " vgg16 (Functional)          (None, 8, 4, 512)         14714688  \n",
      "                                                                 \n",
      " conv2d (Conv2D)             (None, 7, 3, 256)         524544    \n",
      "                                                                 \n",
      " conv2d_1 (Conv2D)           (None, 6, 2, 516)         528900    \n",
      "                                                                 \n",
      " max_pooling2d (MaxPooling2D  (None, 5, 1, 516)        0         \n",
      " )                                                               \n",
      "                                                                 \n",
      " dropout (Dropout)           (None, 5, 1, 516)         0         \n",
      "                                                                 \n",
      " flatten (Flatten)           (None, 2580)              0         \n",
      "                                                                 \n",
      " dense (Dense)               (None, 1024)              2642944   \n",
      "                                                                 \n",
      " dense_1 (Dense)             (None, 2048)              2099200   \n",
      "                                                                 \n",
      " dropout_1 (Dropout)         (None, 2048)              0         \n",
      "                                                                 \n",
      " dense_2 (Dense)             (None, 256)               524544    \n",
      "                                                                 \n",
      " dense_3 (Dense)             (None, 512)               131584    \n",
      "                                                                 \n",
      " dropout_2 (Dropout)         (None, 512)               0         \n",
      "                                                                 \n",
      " dense_4 (Dense)             (None, 1)                 513       \n",
      "                                                                 \n",
      "=================================================================\n",
      "Total params: 21,166,917\n",
      "Trainable params: 6,452,229\n",
      "Non-trainable params: 14,714,688\n",
      "_________________________________________________________________\n"
     ]
    }
   ],
   "source": [
    "model.summary()"
   ]
  },
  {
   "cell_type": "code",
   "execution_count": null,
   "metadata": {
    "id": "dtbPck3usafF",
    "pycharm": {
     "name": "#%%\n"
    }
   },
   "outputs": [],
   "source": [
    "pred = model.predict(xtest)"
   ]
  },
  {
   "cell_type": "code",
   "execution_count": null,
   "metadata": {
    "id": "nHP7oyTqsahQ",
    "pycharm": {
     "name": "#%%\n"
    }
   },
   "outputs": [],
   "source": [
    "pred = np.array(pred)\n",
    "pred.round()"
   ]
  },
  {
   "cell_type": "code",
   "execution_count": null,
   "metadata": {
    "colab": {
     "base_uri": "https://localhost:8080/"
    },
    "id": "vGBIt-KWsajj",
    "outputId": "8f37d843-373a-4b1e-940f-ae26817a2591",
    "pycharm": {
     "name": "#%%\n"
    }
   },
   "outputs": [],
   "source": [
    "from sklearn.metrics import accuracy_score\n",
    "accuracy_score(ytest, pred.round())"
   ]
  },
  {
   "cell_type": "code",
   "execution_count": null,
   "metadata": {
    "id": "p_wdedcPszDQ",
    "pycharm": {
     "name": "#%%\n"
    }
   },
   "outputs": [],
   "source": [
    "for i in range(len(ytest)):\n",
    "    if pred[i].round() == ytest[i] == 0:\n",
    "        print('ok',pred[i],ytest[i])\n",
    "        plt.imsave('/content/check/c'+str(i)+'.png',xtest[i])\n",
    "\n",
    "    else:\n",
    "        print('wrong')"
   ]
  },
  {
   "cell_type": "markdown",
   "metadata": {
    "id": "YQJeD0OYvQNk",
    "pycharm": {
     "name": "#%% md\n"
    }
   },
   "source": [
    "# Classifying Data\n",
    "---"
   ]
  },
  {
   "cell_type": "code",
   "execution_count": null,
   "metadata": {
    "id": "_N5qAqYJszFe",
    "pycharm": {
     "name": "#%%\n"
    }
   },
   "outputs": [],
   "source": [
    "# TRAIN_DATADIR = \"/content/all_images\"\n",
    "TRAIN_DATADIR = r\"C:\\Users\\lenovo\\Desktop\\gaip\\Group-Project\\Data Cleaning\\all_images\"\n",
    "flag=0\n",
    "for img in os.listdir(TRAIN_DATADIR):\n",
    "    img = cv2.imread(os.path.join(TRAIN_DATADIR, img))\n",
    "    img = cv2.resize(img, (w_size,h_size))\n",
    "    img = np.expand_dims(img, 0)\n",
    "    result = model.predict(img)\n",
    "    flag += 1\n",
    "    print('image no.: ', flag)\n",
    "    if result == 0:\n",
    "        flag += 1\n",
    "        #transfer to classified good_classified\n",
    "        im = Image.fromarray(img[0])\n",
    "        # im.save(\"/content/good_classified/\" +str(i)+\".png\")\n",
    "        im.save(r'C:/Users/lenovo/Desktop/gaip/Group-Project/Data Cleaning/classified_images/' + str(i) + '.png')\n",
    "        # plt.imsave(\"/content/good_classified/\" +str(i)+\".png\", img)\n",
    "        print('good image')\n",
    "    else:\n",
    "        flag += 1\n",
    "        #transfer to classified bad_classified\n",
    "        # im = Image.fromarray(img[0])\n",
    "        # im.save(r\"C:\\Users\\lenovo\\Desktop\\gaip\\Group-Project\\Data Cleaning\\bad_classified\\\" +str(i)+\".png\")\n",
    "        # im.save(\"/content/bad_classified/\" +str(i)+\".png\")\n",
    "        # plt.imsave(\"/content/bad_classified/\"+str(j)+ \".png\", img)\n",
    "        print('bad image')"
   ]
  },
  {
   "cell_type": "code",
   "execution_count": null,
   "metadata": {
    "id": "-NRhoXgaFSfY",
    "pycharm": {
     "name": "#%%\n"
    }
   },
   "outputs": [],
   "source": []
  }
 ],
 "metadata": {
  "accelerator": "GPU",
  "colab": {
   "collapsed_sections": [],
   "name": "Cleaning.ipynb",
   "provenance": []
  },
  "gpuClass": "standard",
  "kernelspec": {
   "display_name": "Python 3 (ipykernel)",
   "language": "python",
   "name": "python3"
  },
  "language_info": {
   "codemirror_mode": {
    "name": "ipython",
    "version": 3
   },
   "file_extension": ".py",
   "mimetype": "text/x-python",
   "name": "python",
   "nbconvert_exporter": "python",
   "pygments_lexer": "ipython3",
   "version": "3.9.7"
  }
 },
 "nbformat": 4,
 "nbformat_minor": 1
}
